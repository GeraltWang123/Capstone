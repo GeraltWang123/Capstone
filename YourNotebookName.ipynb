{
 "cells": [
  {
   "cell_type": "code",
   "execution_count": 21,
   "id": "df760bb5",
   "metadata": {},
   "outputs": [
    {
     "data": {
      "application/vnd.jupyter.widget-view+json": {
       "model_id": "b17b4b1055064430820d0b6203425295",
       "version_major": 2,
       "version_minor": 0
      },
      "text/plain": [
       "interactive(children=(FloatSlider(value=9349000000.0, description='Capital Cost:', max=15000000000.0, min=5000…"
      ]
     },
     "metadata": {},
     "output_type": "display_data"
    }
   ],
   "source": [
    "import numpy as np\n",
    "import matplotlib.pyplot as plt\n",
    "import ipywidgets as widgets\n",
    "import numpy_financial as npf\n",
    "\n",
    "# 定义年收入和WACC\n",
    "annual_revenue = 2.25e9  # in EUR\n",
    "WACC = 0.1014\n",
    "\n",
    "# 定义NPV和IRR的计算\n",
    "def compute_NPV(capital_cost, operating_cost, revenue, discount_rate, years=30):\n",
    "    cash_flows = [-capital_cost] + [(revenue - operating_cost) for _ in range(years)]\n",
    "    discounted_cash_flows = [cf / ((1 + discount_rate)**i) for i, cf in enumerate(cash_flows)]\n",
    "    return sum(discounted_cash_flows)\n",
    "\n",
    "def compute_IRR(capital_cost, operating_cost, revenue, years=30):\n",
    "    cash_flows = [-capital_cost] + [(revenue - operating_cost) for _ in range(years)]\n",
    "    return npf.irr(cash_flows)\n",
    "\n",
    "def compute_metrics_over_lifetime(lifetime, capital_cost, operating_cost):\n",
    "    npvs = [compute_NPV(capital_cost, operating_cost, annual_revenue, WACC, years=year) for year in lifetime]\n",
    "    irrs = [compute_IRR(capital_cost, operating_cost, annual_revenue, years=year) for year in lifetime]\n",
    "    return npvs, irrs\n",
    "\n",
    "def plot_NPV_IRR_lifetime_years(capital_cost, operating_cost, years):\n",
    "    lifetime = np.arange(1, years + 1)  \n",
    "    npvs, irrs = compute_metrics_over_lifetime(lifetime, capital_cost, operating_cost)\n",
    "    \n",
    "    plt.figure(figsize=(14, 6))\n",
    "    \n",
    "    # Plot NPV over lifetime\n",
    "    plt.subplot(1, 2, 1)\n",
    "    plt.plot(lifetime, npvs, '-o', color='b', label='NPV')\n",
    "    plt.axhline(0, color='black', linewidth=0.5)\n",
    "    plt.title(f'Net Present Value over {years} Years')\n",
    "    plt.xlabel('Lifetime (Years)')\n",
    "    plt.ylabel('NPV in EUR')\n",
    "    plt.grid(True)\n",
    "    \n",
    "    # Plot IRR over lifetime\n",
    "    plt.subplot(1, 2, 2)\n",
    "    plt.plot(lifetime, np.array(irrs)*100, '-o', color='g', label='IRR')\n",
    "    plt.axhline(0, color='black', linewidth=0.5)\n",
    "    plt.title(f'Internal Rate of Return over {years} Years')\n",
    "    plt.xlabel('Lifetime (Years)')\n",
    "    plt.ylabel('IRR (%)')\n",
    "    plt.grid(True)\n",
    "    \n",
    "    plt.tight_layout()\n",
    "    plt.show()\n",
    "\n",
    "# 创建交互式部件\n",
    "capital_cost_slider = widgets.FloatSlider(\n",
    "    value=9.349e9,\n",
    "    min=5e9,\n",
    "    max=15e9,\n",
    "    step=1e8,\n",
    "    description='Capital Cost:',\n",
    "    readout_format='.0f'\n",
    ")\n",
    "\n",
    "operating_cost_slider = widgets.FloatSlider(\n",
    "    value=1.6e9,\n",
    "    min=1e9,\n",
    "    max=3e9,\n",
    "    step=1e7,\n",
    "    description='Operating Cost (Annual):',\n",
    "    readout_format='.0f'\n",
    ")\n",
    "\n",
    "# Add a slider for adjusting the number of years\n",
    "years_slider = widgets.IntSlider(\n",
    "    value=30,\n",
    "    min=1,\n",
    "    max=50,\n",
    "    step=1,\n",
    "    description='Lifetime (Years):'\n",
    ")\n",
    "\n",
    "widgets.interactive(plot_NPV_IRR_lifetime_years, capital_cost=capital_cost_slider, operating_cost=operating_cost_slider, years=years_slider)\n"
   ]
  },
  {
   "cell_type": "code",
   "execution_count": 20,
   "id": "9b8925be",
   "metadata": {},
   "outputs": [
    {
     "ename": "SyntaxError",
     "evalue": "invalid syntax (3941982382.py, line 83)",
     "output_type": "error",
     "traceback": [
      "\u001b[0;36m  Input \u001b[0;32mIn [20]\u001b[0;36m\u001b[0m\n\u001b[0;31m    voila capstone.ipynb\u001b[0m\n\u001b[0m          ^\u001b[0m\n\u001b[0;31mSyntaxError\u001b[0m\u001b[0;31m:\u001b[0m invalid syntax\n"
     ]
    }
   ],
   "source": []
  }
 ],
 "metadata": {
  "kernelspec": {
   "display_name": "Python 3 (ipykernel)",
   "language": "python",
   "name": "python3"
  },
  "language_info": {
   "codemirror_mode": {
    "name": "ipython",
    "version": 3
   },
   "file_extension": ".py",
   "mimetype": "text/x-python",
   "name": "python",
   "nbconvert_exporter": "python",
   "pygments_lexer": "ipython3",
   "version": "3.9.12"
  }
 },
 "nbformat": 4,
 "nbformat_minor": 5
}
